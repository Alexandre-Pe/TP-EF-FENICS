{
 "cells": [
  {
   "cell_type": "markdown",
   "metadata": {},
   "source": [
    "Affinely parametrized linear BVP:\n",
    "\n",
    "     - div( mu * grad(u) ) + w * grad(u) = f  in domain\n",
    "                                       u = g  on bdry dirichlet\n",
    "                         - mu nabla(u).n = 0 on bdry Neumann\n",
    "with w: given velocity field\n",
    "\n",
    "Single input parameter: mu (the diffusivity coeff.)\n",
    "    \n",
    "Goal: Solve this BVP by an offline-online strategy based on a POD."
   ]
  },
  {
   "cell_type": "code",
   "execution_count": 1,
   "metadata": {},
   "outputs": [],
   "source": [
    "from dolfin import *\n",
    "import matplotlib.pyplot as plt\n",
    "import numpy as np\n",
    "from numpy.linalg import eigh\n",
    "import time\n",
    "import random\n",
    "import numpy.linalg as npl\n",
    "import scipy\n",
    "import scipy.linalg   \n",
    "import math\n",
    "from mpl_toolkits.mplot3d import axes3d"
   ]
  },
  {
   "cell_type": "code",
   "execution_count": 2,
   "metadata": {},
   "outputs": [],
   "source": [
    "# The PDE parameter: diffusivity lambda(mu)\n",
    "def Lambda(mu):\n",
    "#    return  mu + mu0 # affine case\n",
    "    return np.exp(mu0*(mu+1.)) # non-affine case"
   ]
  },
  {
   "cell_type": "code",
   "execution_count": 3,
   "metadata": {},
   "outputs": [],
   "source": [
    "# Function to compute the RB dimension (= Nrb)\n",
    "def energy_number(epsilon_POD,lam):\n",
    "    # lam: eigenvalues table\n",
    "    # return the eignvalue number corresponding to energy_ratio\n",
    "    index_min = 0; s = 0.;s1=np.sum(lam)\n",
    "    for i in range(len(lam)):\n",
    "        if s < s1*(1-epsilon_POD):\n",
    "            s += lam[i]\n",
    "            index_min = index_min + 1\n",
    "    return index_min"
   ]
  },
  {
   "cell_type": "code",
   "execution_count": 4,
   "metadata": {},
   "outputs": [],
   "source": [
    "# Dirichlet boundary conditions\n",
    "tol_bc = 1E-10\n",
    "def u_bdry_0(x, on_boundary):\n",
    "    return bool(on_boundary and (near(x[0], 0, tol_bc)))\n",
    "def u_bdry_1(x, on_boundary):\n",
    "    return bool(on_boundary and (near(x[0], 1, tol_bc)))"
   ]
  },
  {
   "cell_type": "markdown",
   "metadata": {},
   "source": [
    "#    Offline phase"
   ]
  },
  {
   "cell_type": "code",
   "execution_count": 5,
   "metadata": {},
   "outputs": [
    {
     "name": "stdout",
     "output_type": "stream",
     "text": [
      "Number of mesh points NP =  35\n",
      "Order of the Lagrange FE k =  1\n",
      "Resulting number of nodes NN =  1296\n"
     ]
    }
   ],
   "source": [
    "# Physical and numerical parameters\n",
    "# Mesh and function spaces\n",
    "NP =  35; print('Number of mesh points NP = ', NP)\n",
    "mesh = UnitSquareMesh(NP,NP)\n",
    "k = 1 ; print('Order of the Lagrange FE k = ', k)\n",
    "V = FunctionSpace(mesh, \"CG\", int(k))\n",
    "V_vec = VectorFunctionSpace(mesh, \"CG\", int(k))\n",
    "NN = V.dim(); print('Resulting number of nodes NN = ', NN)\n",
    "coordinates = mesh.coordinates()\n",
    "# Trial and test function\n",
    "u, v = TrialFunction(V), TestFunction(V)"
   ]
  },
  {
   "cell_type": "code",
   "execution_count": 9,
   "metadata": {},
   "outputs": [
    {
     "name": "stdout",
     "output_type": "stream",
     "text": [
      "How many snapshots do I compute ? \n",
      "Range values for mu: [ 1.0 , 10.0 ]\n"
     ]
    }
   ],
   "source": [
    "# Snapshots number\n",
    "print('How many snapshots do I compute ? ')\n",
    "M = int(input())\n",
    "\n",
    "# The parameter range mu\n",
    "# The input parameter mu_0\n",
    "mu0 = 0.7\n",
    "# The input parameter mu\n",
    "mu_min = 1.0; mu_max = 10. # range of values \n",
    "print('Range values for mu: [',mu_min,',',mu_max,']')\n",
    "mu = np.linspace(mu_min,mu_max,M)"
   ]
  },
  {
   "cell_type": "code",
   "execution_count": 10,
   "metadata": {},
   "outputs": [
    {
     "name": "stdout",
     "output_type": "stream",
     "text": [
      "Param= [   4.05519997    8.16616991   16.44464677   33.11545196   66.68633104\n",
      "  134.28977968  270.42640743  544.57191013 1096.63315843 2208.34799189]\n"
     ]
    },
    {
     "data": {
      "image/png": "[encoded data removed]",
      "text/plain": [
       "<Figure size 640x480 with 1 Axes>"
      ]
     },
     "metadata": {},
     "output_type": "display_data"
    }
   ],
   "source": [
    "# Plot of the parameter space\n",
    "Param =  np.zeros(len(mu))\n",
    "for i in range(len(mu)):\n",
    "    Param[i] = Lambda(mu[i])\n",
    "print(\"Param=\",Param)\n",
    "fig = plt.figure()\n",
    "ax = fig.gca() \n",
    "ax.scatter(mu, Param) \n",
    "plt.title(\"The parameters space\")\n",
    "ax.set_xlabel('The physical parameter mu')\n",
    "ax.set_ylabel('Lambda(mu)')\n",
    "# plt.legend()\n",
    "plt.show()"
   ]
  },
  {
   "cell_type": "code",
   "execution_count": null,
   "metadata": {},
   "outputs": [],
   "source": []
  }
 ],
 "metadata": {
  "kernelspec": {
   "display_name": "Python 3.8.10 64-bit",
   "language": "python",
   "name": "python3"
  },
  "language_info": {
   "codemirror_mode": {
    "name": "ipython",
    "version": 3
   },
   "file_extension": ".py",
   "mimetype": "text/x-python",
   "name": "python",
   "nbconvert_exporter": "python",
   "pygments_lexer": "ipython3",
   "version": "3.8.10"
  },
  "orig_nbformat": 4,
  "vscode": {
   "interpreter": {
    "hash": "916dbcbb3f70747c44a77c7bcd40155683ae19c65e1c03b4aa3499c5328201f1"
   }
  }
 },
 "nbformat": 4,
 "nbformat_minor": 2
}
